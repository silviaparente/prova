{
  "cells": [
    {
      "cell_type": "markdown",
      "metadata": {
        "id": "view-in-github",
        "colab_type": "text"
      },
      "source": [
        "<a href=\"https://colab.research.google.com/github/silviaparente/prova/blob/main/8S50x_I3S02.ipynb\" target=\"_parent\"><img src=\"https://colab.research.google.com/assets/colab-badge.svg\" alt=\"Open In Colab\"/></a>"
      ]
    },
    {
      "cell_type": "markdown",
      "id": "11d90dc9",
      "metadata": {
        "id": "11d90dc9",
        "tags": [
          "learner",
          "md",
          "learner_chopped"
        ]
      },
      "source": [
        "<hr style=\"height: 1px;\">\n",
        "<i>This notebook was authored by the 8.S50x Course Teams, Copyright 2022 MIT All Rights Reserved.</i>\n",
        "<hr style=\"height: 1px;\">\n",
        "<br>\n",
        "\n",
        "<h1>Intro Chapter 3, Section 2: Coding Introduction with Your First Notebook</h1>\n"
      ]
    },
    {
      "cell_type": "markdown",
      "id": "1359d9dc",
      "metadata": {
        "id": "1359d9dc",
        "tags": [
          "learner",
          "md",
          "learner_chopped"
        ]
      },
      "source": [
        "<a name='section_2_0'></a>\n",
        "<hr style=\"height: 1px;\">\n",
        "\n",
        "\n",
        "## <h2 style=\"border:1px; border-style:solid; padding: 0.25em; color: #FFFFFF; background-color: #90409C\">I3S2.0: Overview</h2>\n"
      ]
    },
    {
      "cell_type": "markdown",
      "id": "32916da6",
      "metadata": {
        "id": "32916da6",
        "tags": [
          "learner",
          "md",
          "learner_chopped"
        ]
      },
      "source": [
        "<h3>Navigation</h3>\n",
        "\n",
        "<table style=\"width:100%\">\n",
        "    <tr>\n",
        "        <td style=\"text-align: left; vertical-align: top; font-size: 10pt;\"><a href=\"#section_2_1\">I3S2.1 Importing Libraries</a></td>\n",
        "        </td>\n",
        "    </tr>\n",
        "    <tr>\n",
        "        <td style=\"text-align: left; vertical-align: top; font-size: 10pt;\"><a href=\"#section_2_2\">I3S2.2 NumPy Arrays and Operations</a></td>\n",
        "        </td>\n",
        "    </tr>\n",
        "    <tr>\n",
        "        <td style=\"text-align: left; vertical-align: top; font-size: 10pt;\"><a href=\"#section_2_3\">I3S2.3 More on Array Shapes</a></td>\n",
        "        </td>\n",
        "    </tr>\n",
        "    <tr>\n",
        "        <td style=\"text-align: left; vertical-align: top; font-size: 10pt;\"><a href=\"#section_2_4\">I3S2.4 Indexing vs. Slicing Arrays</a></td>\n",
        "        </td>\n",
        "    </tr>\n",
        "    <tr>\n",
        "        <td style=\"text-align: left; vertical-align: top; font-size: 10pt;\"><a href=\"#section_2_5\">I3S2.5 Practice with Functions</a></td>\n",
        "      </td>\n",
        "    </tr>\n",
        "    <tr>\n",
        "        <td style=\"text-align: left; vertical-align: top; font-size: 10pt;\"><a href=\"#section_2_6\">I3S2.6 Working Through Unknowns</a></td>\n",
        "        </td>\n",
        "    </tr>\n",
        "    <tr>\n",
        "        <td style=\"text-align: left; vertical-align: top; font-size: 10pt;\"><a href=\"#section_2_7\">I3S2.7 How to Find Functions in Libraries</a></td>\n",
        "        </td>\n",
        "    </tr>\n",
        "\n",
        "\n",
        "\n",
        "\n",
        "</table>"
      ]
    },
    {
      "cell_type": "markdown",
      "id": "022f7e7a",
      "metadata": {
        "id": "022f7e7a",
        "tags": [
          "catsoop_00",
          "learner",
          "md"
        ]
      },
      "source": [
        "<h3>Overview</h3>\n",
        "\n",
        "Now that you are familiar with Juypter notebooks, it's time to start using one! The objective of this section is to practice working with a notebook and submitting your answers, while learning a bit about `numpy`. **Everything in this section is UNGRADED, so you do not have to complete it.**\n",
        "\n",
        "In this section we will introduce typical actions that you might take when running a notebook, including importing libraries, using functions from libraries, and working with `numpy` arrays. We won't necessarily use all of the skills that are presented in this section in the rest of course, so feel free to pick and choose what you would like to practice.\n",
        "\n",
        "**Again, it is not critical that you complete all of the problems here, which are UNGRADED. Do as much as you like!**\n",
        "\n",
        "<br>"
      ]
    },
    {
      "cell_type": "markdown",
      "id": "cc0ae9f0",
      "metadata": {
        "id": "cc0ae9f0",
        "tags": [
          "catsoop_00",
          "learner",
          "md"
        ]
      },
      "source": [
        "<h3>Open A Jupyter Notebook</h3>\n",
        "\n",
        "**This is the first time that you MUST use your Juypter notebook in order to run some code.** This will be followed by some Practice Exercises which require you to write code to perform a specified task.\n",
        "\n",
        "**Use one of the links at the bottom of this page to open a notebook.** Then, use that notebook to follow along and draft your solutions to these problems. Notice as you go along that all of the online content is also shown in the notebook if you open the \"Full\" version.\n",
        "\n",
        "You can, in principle, write your answers and submit them on MITx without running them in the notebook. However, it is MUCH better to run your proposed solution in the notebook FIRST to make sure that it functions as intended. The code that you create and run in the notebook is not graded, so you can try different variations of the code until you find one that works.\n",
        "\n",
        "<br>"
      ]
    },
    {
      "cell_type": "markdown",
      "id": "0363947f",
      "metadata": {
        "id": "0363947f",
        "tags": [
          "8S50x",
          "learner",
          "catsoop_00"
        ]
      },
      "source": [
        "<h3>Information About Notebooks</h3>\n",
        "\n",
        "As a reminder, general information about Juypter notebooks can be found in <a href=\"https://courses.mitxonline.mit.edu/learn/course/course-v1:MITxT+8.S50.3x+3T2023/block-v1:MITxT+8.S50.3x+3T2023+type@sequential+block@seq_I2S1_3x/block-v1:MITxT+8.S50.3x+3T2023+type@vertical+block@vert_I2S1_p0\" target=\"_blank\">Intro Chap 2 Sect 1</a>, and detailed information about using these notebooks can be found in <a href=\"https://courses.mitxonline.mit.edu/learn/course/course-v1:MITxT+8.S50.3x+3T2023/block-v1:MITxT+8.S50.3x+3T2023+type@sequential+block@seq_I2S2_3x/block-v1:MITxT+8.S50.3x+3T2023+type@vertical+block@vert_I2S2_p0\" target=\"_blank\">Intro Chap 2 Sect 2</a> for **Colab** and <a href=\"https://courses.mitxonline.mit.edu/learn/course/course-v1:MITxT+8.S50.3x+3T2023/block-v1:MITxT+8.S50.3x+3T2023+type@sequential+block@seq_I2S3/block-v1:MITxT+8.S50.3x+3T2023+type@vertical+block@vert_I2S3_p0\" target=\"_blank\">Intro Chap 2 Sect 3</a> for **running locally.**"
      ]
    },
    {
      "cell_type": "markdown",
      "id": "64cfd647",
      "metadata": {
        "id": "64cfd647",
        "tags": [
          "learner",
          "md",
          "learner_chopped"
        ]
      },
      "source": [
        "<a name='section_2_1'></a>\n",
        "<hr style=\"height: 1px;\">\n",
        "\n",
        "\n",
        "## <h2 style=\"border:1px; border-style:solid; padding: 0.25em; color: #FFFFFF; background-color: #90409C\">I3S2.1: Importing Libraries</h2>\n",
        "\n",
        "| [Top](#section_2_0) | [Previous Section](#section_2_0) | [Next Section](#section_2_2) |"
      ]
    },
    {
      "cell_type": "markdown",
      "id": "c5e4a5d9",
      "metadata": {
        "id": "c5e4a5d9",
        "tags": [
          "learner",
          "md",
          "catsoop_01"
        ]
      },
      "source": [
        "<h3>The import command</h3>\n",
        "\n",
        "In order to use any of the software packages that extend Python functionality, it is first necessary to add that package using the `import` command. Note: You may see the terms \"package,\" \"library,\" and \"module\" thrown around; all of these refer to code meant to be reused.\n",
        "\n",
        "When importing a package, you can specify an alternative name to use when calling the library functions. For this example, we will use the `numpy` package and specify the alias `np` when importing it `import numpy as np` and then use `np.function`.\n",
        "\n",
        "The most foolproof way of including a package like `numpy` is to start every code file that uses it with the command `import numpy as np`. However, when using Jupyter notebooks, either locally or through Colab, it is only necessary to run this command *once* per session.\n",
        "\n",
        "Try running the cell below!"
      ]
    },
    {
      "cell_type": "code",
      "execution_count": 2,
      "id": "ecc928a0",
      "metadata": {
        "id": "ecc928a0",
        "tags": [
          "learner",
          "py",
          "catsoop_01",
          "learner_chopped"
        ]
      },
      "outputs": [],
      "source": [
        "#>>>RUN: I3S2.1-runcell01\n",
        "\n",
        "import numpy as np"
      ]
    },
    {
      "cell_type": "markdown",
      "id": "07663f15",
      "metadata": {
        "id": "07663f15",
        "tags": [
          "learner",
          "md",
          "catsoop_01"
        ]
      },
      "source": [
        "<h3>More options when using import</h3>\n",
        "\n",
        "Sometimes you only need a subset of the functions in a library. In that case, it will be faster to restrict what is imported. For example, `import scipy.stats` will only import the statistical functions in the SciPy library, for which you would call `scipy.stats.function`.\n",
        "\n",
        "Try the code below, where we import `matplotlib.pyplot` from `matplotlib`, and give it the alias `plt`. Notice, we also use `np`, but we don't have to import it again (although we could)."
      ]
    },
    {
      "cell_type": "code",
      "execution_count": 3,
      "id": "22a59472",
      "metadata": {
        "id": "22a59472",
        "tags": [
          "learner",
          "py",
          "catsoop_01",
          "learner_chopped"
        ],
        "outputId": "8eb01b23-b927-4f23-bf84-85b3906b8c2d",
        "colab": {
          "base_uri": "https://localhost:8080/",
          "height": 430
        }
      },
      "outputs": [
        {
          "output_type": "display_data",
          "data": {
            "text/plain": [
              "<Figure size 640x480 with 1 Axes>"
            ],
            "image/png": "[encoded data removed]"
          },
          "metadata": {}
        }
      ],
      "source": [
        "#>>>RUN: I3S2.1-runcell02\n",
        "\n",
        "import matplotlib.pyplot as plt\n",
        "\n",
        "x = np.linspace(0,10,10)\n",
        "y = np.linspace(0,10,10)\n",
        "plt.plot(x,y)\n",
        "plt.show()"
      ]
    },
    {
      "cell_type": "markdown",
      "id": "14ffafa3",
      "metadata": {
        "id": "14ffafa3",
        "tags": [
          "learner",
          "md",
          "catsoop_01"
        ]
      },
      "source": [
        "<h3>Where You Will Find These Commands in the Course</h3>\n",
        "\n",
        "All course notebooks will contain a code cell near the beginning which imports all of the packages needed for that Video Lesson, Guided Problem Lesson, or Project, and also provides links to the documentation for each library. In this cell, we will also change the plot resolution to make plots look nice on certain Apple displays. See the example below. Use the appropriate Colab or local Juypter procedure to run this code.\n",
        "Note that some notebooks will also have import commands in later code cells.\n",
        "\n",
        "When you start a new runtime, you will have to execute this cell again. In Colab, your runtime may timeout if you leave it inactive, and you will therefore have to run this cell again."
      ]
    },
    {
      "cell_type": "code",
      "execution_count": 4,
      "id": "64450dac",
      "metadata": {
        "id": "64450dac",
        "tags": [
          "learner",
          "py",
          "catsoop_01",
          "learner_chopped"
        ]
      },
      "outputs": [],
      "source": [
        "#>>>RUN: I3S2.1-runcell03\n",
        "\n",
        "#>>>RUN IMPORT AND SET RESOLUTION AND FIGURE SIZE\n",
        "import numpy as np\n",
        "import matplotlib.pyplot as plt\n",
        "\n",
        "#set plot resolution\n",
        "%config InlineBackend.figure_format = 'retina'\n",
        "\n",
        "#set default figure size\n",
        "plt.rcParams['figure.figsize'] = (9,6)"
      ]
    },
    {
      "cell_type": "markdown",
      "id": "84deebc6",
      "metadata": {
        "id": "84deebc6",
        "tags": [
          "learner",
          "md",
          "catsoop_01"
        ]
      },
      "source": [
        "Try running the code below again. If you ran the cell above, you do not need to include the import commands again. Note that this new figure will have better resolution for certain Apple displays. We will discuss other aspects of making plots \"nice\" in Video Lesson 1."
      ]
    },
    {
      "cell_type": "code",
      "execution_count": null,
      "id": "6ba3ecf1",
      "metadata": {
        "id": "6ba3ecf1",
        "tags": [
          "learner",
          "py",
          "catsoop_01",
          "learner_chopped"
        ]
      },
      "outputs": [],
      "source": [
        "#>>>RUN: I3S2.1-runcell04\n",
        "\n",
        "x = np.linspace(0,10,11)\n",
        "y = np.linspace(0,10,11)\n",
        "plt.plot(x,y)\n",
        "plt.show()"
      ]
    },
    {
      "cell_type": "markdown",
      "id": "e28f82fd",
      "metadata": {
        "id": "e28f82fd",
        "tags": [
          "learner",
          "md",
          "catsoop_01"
        ]
      },
      "source": [
        "<h3>Importing Your Own Code Like A Package</h3>\n",
        "\n",
        "If you want to do some more advanced programming, you can write a local version of code that you reuse regularly. For example, if you have a Python file `YourCodeHere.py` which defines some functions, you can import that using `import YourCodeHere`.\n",
        "\n",
        "If you are interested in a deeper understanding of the Python import system, consider reading this blog: <a href=\"https://tenthousandmeters.com/blog/python-behind-the-scenes-11-how-the-python-import-system-works/\" target=\"_blank\">here.</a>"
      ]
    },
    {
      "cell_type": "markdown",
      "id": "488a80a8",
      "metadata": {
        "id": "488a80a8",
        "tags": [
          "learner",
          "md",
          "learner_chopped"
        ]
      },
      "source": [
        "<a name='section_2_2'></a>\n",
        "<hr style=\"height: 1px;\">\n",
        "\n",
        "\n",
        "## <h2 style=\"border:1px; border-style:solid; padding: 0.25em; color: #FFFFFF; background-color: #90409C\">I3S2.2: NumPy Arrays and Operations</h2>\n",
        "\n",
        "| [Top](#section_2_0) | [Previous Section](#section_2_1) | [Practice](#practice_2_2) | [Next Section](#section_2_3) |"
      ]
    },
    {
      "cell_type": "markdown",
      "id": "2adbc4a2",
      "metadata": {
        "id": "2adbc4a2",
        "tags": [
          "learner",
          "md",
          "catsoop_02"
        ]
      },
      "source": [
        "<h3>Overview</h3>\n",
        "\n",
        "Data science algorithms very often consist primarily of a variety of matrix computations, so we'll need a way to efficiently work with matrices.\n",
        "\n",
        "The NumPy software package in Python does a variety of numerical matrix computations using very compact and efficient code for handling arrays of data. It is used extensively in many fields requiring numerical analysis, and will be used extensively in this course. You can find general documentation on `numpy` <a href=\"https://docs.scipy.org/doc/numpy/user/quickstart.html\" target=\"_blank\">here</a>.\n",
        "\n",
        "As mentioned above, we will use the convention of abbreviating the name `numpy` to the shorthand `np` via the command `import numpy as np`. Then, we can use `np.function` throughout our code."
      ]
    },
    {
      "cell_type": "markdown",
      "id": "ffbee060",
      "metadata": {
        "id": "ffbee060",
        "tags": [
          "learner",
          "md",
          "catsoop_02"
        ]
      },
      "source": [
        "<h3>Defining Arrays in NumPy</h3>\n",
        "\n",
        "The fundamental data type in `numpy` is the multidimensional array, and arrays are usually generated from a nested list of values using the `np.array` command. Every `array` has a `shape` attribute which is a list of the sizes of the various dimensions. As described in more detail below, these sizes are specified when an array is created using nested square brackets.\n",
        "\n",
        "In this class, we will mostly use one- and two-dimensional arrays. To create a `numpy` array from a 1D list of numbers A, we use the following (notice the difference in the data types):"
      ]
    },
    {
      "cell_type": "code",
      "execution_count": null,
      "id": "5f301991",
      "metadata": {
        "id": "5f301991",
        "tags": [
          "learner",
          "py",
          "catsoop_02",
          "learner_chopped"
        ]
      },
      "outputs": [],
      "source": [
        "#>>>RUN: I3S2.2-runcell01\n",
        "import numpy as np\n",
        "\n",
        "A = [1,2,3,4,5]\n",
        "A_array = np.array(A)\n",
        "\n",
        "print('A:',A)\n",
        "print('A is a list:', type(A))\n",
        "print()\n",
        "\n",
        "print('A_array:',A_array)\n",
        "print('A_array is an array:', type(A_array))"
      ]
    },
    {
      "cell_type": "markdown",
      "id": "f63ff6a1",
      "metadata": {
        "id": "f63ff6a1",
        "tags": [
          "learner",
          "md",
          "catsoop_02"
        ]
      },
      "source": [
        "We can generate arrays of data without starting from a list, using a variety of `numpy` functions. For instance, try the following (which also prints other information about B):"
      ]
    },
    {
      "cell_type": "code",
      "execution_count": null,
      "id": "e3d3011d",
      "metadata": {
        "id": "e3d3011d",
        "tags": [
          "learner",
          "py",
          "catsoop_02",
          "learner_chopped"
        ]
      },
      "outputs": [],
      "source": [
        "#>>>RUN: I3S2.2-runcell02\n",
        "import numpy as np\n",
        "\n",
        "B = np.linspace(0,10,11)\n",
        "\n",
        "print('print B:',B)\n",
        "print('type:',type(B))\n",
        "print('shape:',B.shape)"
      ]
    },
    {
      "cell_type": "markdown",
      "id": "38ecb956",
      "metadata": {
        "id": "38ecb956",
        "tags": [
          "learner",
          "md",
          "catsoop_02"
        ]
      },
      "source": [
        "<h3>Shapes of Arrays</h3>\n",
        "\n",
        "We can increase the dimensionality of arrays by generating them from lists of lists, or specifying the dimension. For instance, consider the 2D array (2X3 array) with 2 rows and 3 columns, given in the code below."
      ]
    },
    {
      "cell_type": "code",
      "execution_count": null,
      "id": "e28c4a49",
      "metadata": {
        "id": "e28c4a49",
        "tags": [
          "learner",
          "py",
          "catsoop_02",
          "learner_chopped"
        ]
      },
      "outputs": [],
      "source": [
        "#>>>RUN: I3S2.2-runcell03\n",
        "import numpy as np\n",
        "\n",
        "C = np.array([[1,2,3],[4,5,6]])\n",
        "\n",
        "print('print C:')\n",
        "print(C)\n",
        "print('shape:',C.shape)\n",
        "print()\n",
        "\n",
        "#OR TRY\n",
        "M_1D = np.array([1,2,3,4,5,6])\n",
        "M_2D = np.reshape(M_1D, (2, 3))\n",
        "\n",
        "print('print M_2D:')\n",
        "print(M_2D)\n",
        "print('shape:',M_2D.shape)"
      ]
    },
    {
      "cell_type": "markdown",
      "id": "3TLWsZrEef2f",
      "metadata": {
        "id": "3TLWsZrEef2f",
        "tags": [
          "learner",
          "md",
          "catsoop_02"
        ]
      },
      "source": [
        "<h3>Practice With Array Coding</h3>\n",
        "\n",
        "Complete the problems below to practice creating arrays."
      ]
    },
    {
      "cell_type": "markdown",
      "id": "343f2843",
      "metadata": {
        "id": "343f2843",
        "tags": [
          "learner",
          "md",
          "learner_chopped"
        ]
      },
      "source": [
        "<a name='practice_2_2'></a>\n",
        "\n",
        "### <span style=\"border:3px; border-style:solid; padding: 0.15em; border-color: #90409C; color: #90409C;\">I3S2.2.1 Array Example 1</span>\n",
        "\n",
        "Provide an expression that sets A to be a  1D  numpy array of length 5 (shape (5,)), containing any values you wish.\n",
        "\n",
        "Notice the command `print(A.shape)` which allows you to check if your expression creates an array of the correct shape. Lines like this will typically *not* be included in the starting version of the code for questions in this course. You are strongly encouraged to add them yourself.\n"
      ]
    },
    {
      "cell_type": "code",
      "execution_count": null,
      "id": "12bc9cfc",
      "metadata": {
        "id": "12bc9cfc",
        "tags": [
          "py",
          "draft",
          "learner_chopped"
        ]
      },
      "outputs": [],
      "source": [
        "#>>>PROBLEM: I3S2.2.1\n",
        "# Use this cell for drafting and checking your solution,\n",
        "# then submit it on MITx to be graded.\n",
        "\n",
        "A = 0\n",
        "\n",
        "#TEST\n",
        "#Note, we typically will not include a line of code to test your output\n",
        "#This is something you must do on your own\n",
        "print(A.shape)"
      ]
    },
    {
      "cell_type": "markdown",
      "id": "5171fb67",
      "metadata": {
        "id": "5171fb67",
        "tags": [
          "learner",
          "md",
          "learner_chopped"
        ]
      },
      "source": [
        "### <span style=\"border:3px; border-style:solid; padding: 0.15em; border-color: #90409C; color: #90409C;\">I3S2.2.2 Array Example 2</span>\n",
        "\n",
        "Provide an expression that sets B to be a  3×1  numpy array ( 3  rows by  1  columns), containing any values you wish.\n",
        "\n"
      ]
    },
    {
      "cell_type": "code",
      "execution_count": null,
      "id": "c761fa52",
      "metadata": {
        "id": "c761fa52",
        "tags": [
          "py",
          "draft",
          "learner_chopped"
        ]
      },
      "outputs": [],
      "source": [
        "#>>>PROBLEM: I3S2.2.2\n",
        "# Use this cell for drafting and checking your solution,\n",
        "# then submit it on MITx to be graded.\n",
        "\n",
        "B = 0\n",
        "\n",
        "#Try applying B.T to see that it matches your previous answer for A"
      ]
    },
    {
      "cell_type": "markdown",
      "id": "bb565f6f",
      "metadata": {
        "id": "bb565f6f",
        "tags": [
          "learner",
          "md",
          "learner_chopped"
        ]
      },
      "source": [
        " ### <span style=\"border:3px; border-style:solid; padding: 0.15em; border-color: #90409C; color: #90409C;\">I3S2.2.3 Array Example 3</span>\n",
        "\n",
        "Provide an expression that sets C to be a  2×3  numpy array ( 2  rows by  3  columns), containing any values you wish.\n",
        "\n"
      ]
    },
    {
      "cell_type": "code",
      "execution_count": null,
      "id": "841e62e1",
      "metadata": {
        "id": "841e62e1",
        "tags": [
          "py",
          "draft",
          "learner_chopped"
        ]
      },
      "outputs": [],
      "source": [
        "#>>>PROBLEM: I3S2.2.3\n",
        "# Use this cell for drafting and checking your solution,\n",
        "# then submit it on MITx to be graded.\n",
        "\n",
        "C = 0"
      ]
    },
    {
      "cell_type": "markdown",
      "id": "1781c8cc",
      "metadata": {
        "id": "1781c8cc",
        "tags": [
          "learner",
          "md",
          "catsoop_02"
        ]
      },
      "source": [
        "<h3>Operations on of Arrays</h3>\n",
        "\n",
        "Note that it is often conventional to use 2D arrays to represent both matrices and vectors.  Although the notations `[[1,2,3]]` and `[1,2,3]` look very similar, some `numpy` functions behave differently depending on which format you use. The first has two dimensions (it's a list of lists), while the second has only one (it's a single list). Using only 2D arrays for both matrices and vectors gives us predictable results from 'numpy' operations.\n",
        "\n",
        "Using 2D arrays for matrices is clear enough, but what about column and row vectors? We will represent a column vector as a $d\\times 1$ array and a row vector as a $1\\times d$\n",
        "array (where we are using the standard \"$\\#$ of rows $\\times$ $\\#$ of columns\" notation).\n",
        "\n",
        "**Column Vector**\n",
        "\n",
        "For example, we will represent the three-element column vector,\n",
        "\n",
        "$$\n",
        "x31 =\n",
        "\\left[\n",
        "\\begin{array}{c}\n",
        "1 \\\\\n",
        "5 \\\\\n",
        "3 \\\\\n",
        "\\end{array}\n",
        "\\right],\n",
        "$$\n",
        "\n",
        "as a $ 3 \\times 1 $ `numpy` array which can be generated using (take note of the \"double\" brackets):\n",
        "\n",
        "$~~~$<tt> x31 = np.array([[1],[5],[3]]), </tt>\n",
        "\n",
        "<br>\n",
        "\n",
        "**Row Vector**\n",
        "\n",
        "The three-element row vector:\n",
        "\n",
        "$$\n",
        "x13 =\n",
        "\\left[ 1, 5, 3 \\right],\n",
        "$$\n",
        "\n",
        "is a $ 1 \\times 3 $ `numpy` array which can be generated using (take note of the different arrangement of \"double\" brackets here):\n",
        "\n",
        "$~~~$<tt> x13 = np.array([[1,5,3]]), </tt>\n",
        "\n",
        "\n",
        "<br>\n",
        "\n",
        "**Transpose**\n",
        "\n",
        "The row vector above can also be generated by transposing the $ 3 \\times 1 $ array:\n",
        "\n",
        "$~~~$<tt> x13 = np.transpose(np.array([[1,5,3]]),</tt>\n",
        "\n",
        "A more compact notation is to use the array attribute <tt> .T </tt>, as in\n",
        "\n",
        "$~~~$<tt> x13 = np.array([[1,5,3]]).T </tt>\n",
        "\n",
        "\n",
        "**NOTE:** The transpose operation does NOT transform the shape of a 1D array with shape (N,). For instance, see what happens in the code below if we try `x3 = np.array([1,5,3]).T`.\n",
        "\n",
        "\n",
        "<br>"
      ]
    },
    {
      "cell_type": "markdown",
      "id": "3b9d803f",
      "metadata": {
        "id": "3b9d803f",
        "tags": [
          "learner",
          "md",
          "catsoop_02"
        ]
      },
      "source": [
        "<h3>Try running the code below.</h3>"
      ]
    },
    {
      "cell_type": "code",
      "execution_count": null,
      "id": "8f470712",
      "metadata": {
        "id": "8f470712",
        "tags": [
          "py",
          "catsoop_02",
          "learner",
          "learner_chopped"
        ]
      },
      "outputs": [],
      "source": [
        "#>>>RUN: I3S2.2-runcell04\n",
        "\n",
        "x31 = np.array([[1],[5],[3]])\n",
        "x13 = np.array([[1,5,3]])\n",
        "x3 = np.array([1,5,3])\n",
        "\n",
        "print('x31')\n",
        "print(x31)\n",
        "print()\n",
        "\n",
        "print('x13')\n",
        "print(x13)\n",
        "print()\n",
        "\n",
        "print('x3')\n",
        "print(x3)\n",
        "print()\n",
        "\n",
        "print('x13.T (should equal x31)')\n",
        "print(x13.T)\n",
        "print()\n",
        "\n",
        "print('x3.T (will not equal x31)')\n",
        "print(x3.T)\n",
        "print()"
      ]
    },
    {
      "cell_type": "markdown",
      "id": "3ce8e813",
      "metadata": {
        "id": "3ce8e813",
        "tags": [
          "learner",
          "md",
          "catsoop_02"
        ]
      },
      "source": [
        "<h3>Useful Functions</h3>\n",
        "\n",
        "Some of the functions and features you should be familiar with for this course are listed below with links to the corresponding documentation. Note that the page pointed to by each link also describes other related functions. For example, the link for `np.ones` references other functions such as `np.zeros`.\n",
        "\n",
        "* <tt><a href=\"https://docs.scipy.org/doc/numpy/reference/generated/numpy.array.html\" target=\"_blank\">np.array</a></tt> Create an array.\n",
        "* <tt><a href=\"https://docs.scipy.org/doc/numpy/reference/generated/numpy.transpose.html\" target=\"_blank\">np.transpose</a></tt> (and the equivalent method `a.T`) Take the transpose of an array.\n",
        "* <tt><a href=\"https://docs.scipy.org/doc/numpy/reference/generated/numpy.ndarray.shape.html\" target=\"_blank\">np.ndarray.shape</a></tt> Return a list of the dimension sizes of an array.\n",
        "* <tt><a href=\"https://docs.scipy.org/doc/numpy/reference/generated/numpy.dot.html\" target=\"_blank\">np.dot</a></tt> (and the equivalent method `a.dot(b)`) Does a matrix multiplication of the two arrays. This product of two matrices is sometimes denoted  `a @ b`. This notation should not be confused with the term \"dot product\", which can be used to denote $a^T b$.\n",
        "* <tt><a href=\"https://numpy.org/doc/stable/reference/generated/numpy.linalg.inv.html\" target=\"_blank\">np.linalg.inv</a></tt> Find the inverse of an array (only possible for square arrays).\n",
        "* <tt><a href=\"https://numpy.org/doc/stable/reference/generated/numpy.vstack.html\" target=\"_blank\">np.vstack</a></tt> Combines arrays so that the added arrays become new rows in the first array.\n",
        "* <tt><a href=\"https://numpy.org/doc/stable/reference/generated/numpy.ones.html\" target=\"_blank\">np.ones</a></tt> Creates an array filled with \"1\"s.\n",
        "* <tt><a href=\"https://numpy.org/doc/stable/reference/generated/numpy.sqrt.html\" target=\"_blank\">np.sqrt</a></tt> Returns an array containing elements which are the square root of the elements in the original array.\n",
        "* Elementwise operators for matrix arithmetic: `+`, `-`,  `*`, and  `/`."
      ]
    },
    {
      "cell_type": "markdown",
      "id": "2a3bef3b",
      "metadata": {
        "id": "2a3bef3b",
        "tags": [
          "learner",
          "md",
          "learner_chopped"
        ]
      },
      "source": [
        "<a name='section_2_3'></a>\n",
        "<hr style=\"height: 1px;\">\n",
        "\n",
        "## <h2 style=\"border:1px; border-style:solid; padding: 0.25em; color: #FFFFFF; background-color: #90409C\">I3S2.3 More on Array Shapes</h2>    \n",
        "\n",
        "| [Top](#section_2_0) | [Previous Section](#section_2_2) | [Practice](#practice_2_3) | [Next Section](#section_2_4) |\n"
      ]
    },
    {
      "cell_type": "markdown",
      "id": "u4sO2bGNiqnf",
      "metadata": {
        "id": "u4sO2bGNiqnf",
        "tags": [
          "learner",
          "md",
          "catsoop_03"
        ]
      },
      "source": [
        "<h3>Overview</h3>\n",
        "\n",
        "This section contains additional exercises to help you understand array shapes. This will be important for understanding the inputs and outputs of functions you will write.\n",
        "\n",
        "As before, using the **View Answer** button after completing each exercise will give additional information about array shapes."
      ]
    },
    {
      "cell_type": "markdown",
      "id": "a8ffc12d",
      "metadata": {
        "id": "a8ffc12d",
        "tags": [
          "learner",
          "md",
          "catsoop_03"
        ]
      },
      "source": [
        "<h3>Array Shapes</h3>\n",
        "\n",
        "Let `A` be a $4\\times 2$ numpy array, `B` be a $4\\times 3$ array, and `C` be a $4\\times 1$ array.  For each of the following expressions, indicate the shape (i.e., the dimensions) of the result as a tuple of integers (<b>recall python tuples use parentheses, not square brackets, which are for lists, and a tuple with just one item  <tt>x</tt> in it is written as <tt>(x,)</tt> with a comma</b>). If the expression is invalid, submit the python string 'none' (lower case and including the single quotes).\n",
        "\n",
        "For example,\n",
        "\n",
        "* If the result array was `[45, 36, 75]`, the shape is `(3,)`\n",
        "* If the result array was `[[1,2,3],[4,5,6]]`, the shape is `(2,3)`\n",
        "\n",
        "**Hint: If you get stuck, code and run these expressions (with array values of your choosing), then print out the shape using `A.shape`**\n",
        "<br>"
      ]
    },
    {
      "cell_type": "markdown",
      "id": "198e20c4",
      "metadata": {
        "id": "198e20c4",
        "tags": [
          "learner",
          "md",
          "learner_chopped"
        ]
      },
      "source": [
        "<a name='practice_2_3'></a>\n",
        "\n",
        "### <span style=\"border:3px; border-style:solid; padding: 0.15em; border-color: #90409C; color: #90409C;\">I3S2.3.1 Array Shapes 1</span>\n",
        "\n",
        "Enter the shape of <tt>np.array([1,2,3])</tt> as a python tuple."
      ]
    },
    {
      "cell_type": "code",
      "execution_count": null,
      "id": "acfac3a7",
      "metadata": {
        "id": "acfac3a7",
        "tags": [
          "py",
          "draft",
          "learner_chopped"
        ]
      },
      "outputs": [],
      "source": [
        "#>>>PROBLEM: I3S2.3.1\n",
        "# Use this cell for drafting your solution (if desired),\n",
        "# then enter your solution in the interactive problem online to be graded.\n",
        "\n",
        "pass"
      ]
    },
    {
      "cell_type": "markdown",
      "id": "7a93b8f9",
      "metadata": {
        "id": "7a93b8f9",
        "tags": [
          "learner",
          "md",
          "learner_chopped"
        ]
      },
      "source": [
        "### <span style=\"border:3px; border-style:solid; padding: 0.15em; border-color: #90409C; color: #90409C;\">I3S2.3.2 Array Shapes 2</span>\n",
        "\n",
        "Enter the shape of  <tt>np.array([[1,2,3]])</tt> as a python tuple:\n",
        "\n"
      ]
    },
    {
      "cell_type": "code",
      "execution_count": null,
      "id": "ed50af4b",
      "metadata": {
        "id": "ed50af4b",
        "tags": [
          "py",
          "draft",
          "learner_chopped"
        ]
      },
      "outputs": [],
      "source": [
        "#>>>PROBLEM: I3S2.3.2\n",
        "# Use this cell for drafting your solution (if desired),\n",
        "# then enter your solution in the interactive problem online to be graded.\n",
        "\n",
        "pass"
      ]
    },
    {
      "cell_type": "markdown",
      "id": "474aed47",
      "metadata": {
        "id": "474aed47",
        "tags": [
          "learner",
          "md",
          "learner_chopped"
        ]
      },
      "source": [
        "### <span style=\"border:3px; border-style:solid; padding: 0.15em; border-color: #90409C; color: #90409C;\">I3S2.3.3 Array Shapes 3</span>\n",
        "\n",
        "Enter the shape of <tt>C * C</tt> as a python tuple.\n",
        "\n",
        "Reminder: `A` is $4\\times 2$, `B` is $4\\times 3$, and `C` is $4\\times 1$.\n",
        "\n"
      ]
    },
    {
      "cell_type": "code",
      "execution_count": null,
      "id": "13ba8490",
      "metadata": {
        "id": "13ba8490",
        "tags": [
          "py",
          "draft",
          "learner_chopped"
        ]
      },
      "outputs": [],
      "source": [
        "#>>>PROBLEM: I3S2.3.3\n",
        "# Use this cell for drafting your solution (if desired),\n",
        "# then enter your solution in the interactive problem online to be graded.\n",
        "\n",
        "pass"
      ]
    },
    {
      "cell_type": "markdown",
      "id": "0710f455",
      "metadata": {
        "id": "0710f455",
        "tags": [
          "learner",
          "md",
          "learner_chopped"
        ]
      },
      "source": [
        "<a name='section_2_4'></a>\n",
        "<hr style=\"height: 1px;\">\n",
        "\n",
        "## <h2 style=\"border:1px; border-style:solid; padding: 0.25em; color: #FFFFFF; background-color: #90409C\">I3S2.4 Indexing vs. Slicing Arrays</h2>    \n",
        "\n",
        "| [Top](#section_2_0) | [Previous Section](#section_2_3) | [Practice](#practice_2_4) | [Next Section](#section_2_5) |\n"
      ]
    },
    {
      "cell_type": "markdown",
      "id": "u1DCqHs7lAlC",
      "metadata": {
        "id": "u1DCqHs7lAlC",
        "tags": [
          "learner",
          "md",
          "catsoop_04"
        ]
      },
      "source": [
        "<h3>Overview</h3>\n",
        "\n",
        "This section gives you practice in selecting out pieces of an array which can be done in various ways. You do not have to be an expert at this, and you don't even have to finish, but it could be useful to practice!\n",
        "\n",
        "As before, use the **View Answer** button after completing each exercise."
      ]
    },
    {
      "cell_type": "markdown",
      "id": "2b4961b1",
      "metadata": {
        "id": "2b4961b1",
        "tags": [
          "learner",
          "md",
          "catsoop_04"
        ]
      },
      "source": [
        "<h3>Indexing and Slicing</h3>\n",
        "\n",
        "The shape of the resulting array is different depending on if you use indexing or slicing.\n",
        "\n",
        "<b>Indexing</b> refers to selecting one particular element of an array by using single numbers (the indices) to specify the corresponding row and column.\n",
        "\n",
        "Note that Python uses **zero-indexing**, which means that the first rows and first column are denoted 0, not 1. This is different from R and MATLAB. Because of this counting convention, indexing the 3rd row and 4th column of a matrix `B` would be written `B[2,3]`.\n",
        "\n",
        "Negative numbers are used as indices which count from the end of a row or column. However, because of the difficulty in software of distinguishing `+0` and `-0`, there is no negative equivalent of zero-indexing, so `-1` indicates the last row or column. For example, `B[-1,-1]` indicates the bottom right element (last row and column) in a matrix.\n",
        "\n",
        "<b>Slicing</b> refers to selecting a subset of the array by specifying a range of indices. The notation used for ranges is  `n:m`, where `n` is the index of the initial row or column (with the counting again starting at zero). Contrary to what you might expect, `m` is **not** the index of the final row or column. Instead, that index is `m-1`. So, selecting the 3rd through 4th row and 5th through 7th column of an array would be denoted `A[2:4,4:7]`. Leaving the end of the range blank, for example `1:`, denotes that the range ends at the last row or column in the matrix. Similarly, you can leave the first index blank to indicate a range that starts at the first row or column. This latter option is not really needed since one can start the indicated range with `0:` for any matrix. The output of slicing is another matrix but with a different number of rows and/or columns than the original.\n",
        "\n",
        "Note that you can combine indexing and slicing by selecting a single index for either the row or column and a range for the other one. In this case, the output is a 1D vector, either a single row or a single column.\n",
        "\n",
        "\n",
        "If you're unfamiliar with these terms, you can also look at the official numpy documentation <a href=\"https://numpy.org/doc/stable/reference/arrays.indexing.html\" target=\"_blank\">here</a>.\n",
        "\n",
        "\n",
        "<h3>Practice</h3>\n",
        "\n",
        "In the following questions, let\n",
        "\n",
        "<pre>A = np.array([[5,7,10,14],[2,4,8,9]])</pre>\n",
        "\n",
        "Tell us what the output would be for each of the following expressions. Use brackets `[]` as necessary. If the operation is invalid, submit the python string `'none'`.\n",
        "\n",
        "<br>"
      ]
    },
    {
      "cell_type": "markdown",
      "id": "44675c60",
      "metadata": {
        "id": "44675c60",
        "tags": [
          "learner",
          "md",
          "learner_chopped"
        ]
      },
      "source": [
        "<a name='practice_2_4'></a>  \n",
        "\n",
        "### <span style=\"border:3px; border-style:solid; padding: 0.15em; border-color: #90409C; color: #90409C;\">I3S2.4.1 Indexing and Slicing 1</span>\n",
        "\n",
        "Try to determine the answer without entering the expression in python.\n",
        "\n",
        "<tt>A[1,2] = </tt>"
      ]
    },
    {
      "cell_type": "code",
      "execution_count": null,
      "id": "676bf5c4",
      "metadata": {
        "id": "676bf5c4",
        "tags": [
          "py",
          "draft",
          "learner_chopped"
        ]
      },
      "outputs": [],
      "source": [
        "#>>>PROBLEM: I3S2.4.1\n",
        "# Use this cell for drafting your solution (if desired),\n",
        "# then enter your solution in the interactive problem online to be graded.\n",
        "\n",
        "pass"
      ]
    },
    {
      "cell_type": "markdown",
      "id": "d97ccc4b",
      "metadata": {
        "id": "d97ccc4b",
        "tags": [
          "learner",
          "md",
          "learner_chopped"
        ]
      },
      "source": [
        "### <span style=\"border:3px; border-style:solid; padding: 0.15em; border-color: #90409C; color: #90409C;\">I3S2.4.2 Indexing and Slicing 2</span>\n",
        "\n",
        "Try to determine the answer without entering the expression in python.\n",
        "\n",
        "For <tt>A = np.array([[5,7,10,14],[2,4,8,9]])</tt>,\n",
        "\n",
        "<tt>A[1,8] = </tt>"
      ]
    },
    {
      "cell_type": "code",
      "execution_count": null,
      "id": "46ee7461",
      "metadata": {
        "id": "46ee7461",
        "tags": [
          "py",
          "draft",
          "learner_chopped"
        ]
      },
      "outputs": [],
      "source": [
        "#>>>PROBLEM: I3S2.4.2\n",
        "# Use this cell for drafting your solution (if desired),\n",
        "# then enter your solution in the interactive problem online to be graded.\n",
        "\n",
        "pass"
      ]
    },
    {
      "cell_type": "markdown",
      "id": "f18e5103",
      "metadata": {
        "id": "f18e5103",
        "tags": [
          "learner",
          "md",
          "learner_chopped"
        ]
      },
      "source": [
        "### <span style=\"border:3px; border-style:solid; padding: 0.15em; border-color: #90409C; color: #90409C;\">I3S2.4.3 Indexing and Slicing 3</span>\n",
        "\n",
        "Try to determine the answer without entering the expression in python.\n",
        "\n",
        "For <tt>A = np.array([[5,7,10,14],[2,4,8,9]])</tt>,\n",
        "\n",
        "<tt>A[0:1,1:3] = </tt>"
      ]
    },
    {
      "cell_type": "code",
      "execution_count": null,
      "id": "22e4b168",
      "metadata": {
        "id": "22e4b168",
        "tags": [
          "py",
          "draft",
          "learner_chopped"
        ]
      },
      "outputs": [],
      "source": [
        "#>>>PROBLEM: I3S2.4.3\n",
        "# Use this cell for drafting your solution (if desired),\n",
        "# then enter your solution in the interactive problem online to be graded.\n",
        "\n",
        "pass"
      ]
    },
    {
      "cell_type": "markdown",
      "id": "e4d0342b",
      "metadata": {
        "id": "e4d0342b",
        "tags": [
          "learner",
          "md",
          "learner_chopped"
        ]
      },
      "source": [
        "### <span style=\"border:3px; border-style:solid; padding: 0.15em; border-color: #90409C; color: #90409C;\">I3S2.4.4 Indexing and Slicing 4</span>\n",
        "\n",
        "Try to determine the answer without entering the expression in python.\n",
        "\n",
        "For <tt>A = np.array([[5,7,10,14],[2,4,8,9]])</tt>,\n",
        "\n",
        "<tt>A[0:1,1:20] = </tt>"
      ]
    },
    {
      "cell_type": "code",
      "execution_count": null,
      "id": "346c4cae",
      "metadata": {
        "id": "346c4cae",
        "tags": [
          "py",
          "draft",
          "learner_chopped"
        ]
      },
      "outputs": [],
      "source": [
        "#>>>PROBLEM: I3S2.4.4\n",
        "# Use this cell for drafting your solution (if desired),\n",
        "# then enter your solution in the interactive problem online to be graded.\n",
        "\n",
        "pass"
      ]
    },
    {
      "cell_type": "markdown",
      "id": "9214f852",
      "metadata": {
        "id": "9214f852",
        "tags": [
          "learner",
          "md",
          "learner_chopped"
        ]
      },
      "source": [
        "### <span style=\"border:3px; border-style:solid; padding: 0.15em; border-color: #90409C; color: #90409C;\">I3S2.4.5 Indexing and Slicing 5</span>\n",
        "\n",
        "Try to determine the answer without entering the expression in python.\n",
        "\n",
        "For <tt>A = np.array([[5,7,10,14],[2,4,8,9]])</tt>,\n",
        "\n",
        "<tt>A[1:,:2] = </tt>"
      ]
    },
    {
      "cell_type": "code",
      "execution_count": null,
      "id": "cef56403",
      "metadata": {
        "id": "cef56403",
        "tags": [
          "py",
          "draft",
          "learner_chopped"
        ]
      },
      "outputs": [],
      "source": [
        "#>>>PROBLEM: I3S2.4.5\n",
        "# Use this cell for drafting your solution (if desired),\n",
        "# then enter your solution in the interactive problem online to be graded.\n",
        "\n",
        "pass"
      ]
    },
    {
      "cell_type": "markdown",
      "id": "c58dcf4f",
      "metadata": {
        "id": "c58dcf4f",
        "tags": [
          "learner",
          "md",
          "learner_chopped"
        ]
      },
      "source": [
        "### <span style=\"border:3px; border-style:solid; padding: 0.15em; border-color: #90409C; color: #90409C;\">I3S2.4.6 Indexing and Slicing 6</span>\n",
        "\n",
        "Try to determine the answer without entering the expression in python.\n",
        "\n",
        "For <tt>A = np.array([[5,7,10,14],[2,4,8,9]])</tt>,\n",
        "\n",
        "<tt>A[1,1:3] = </tt>"
      ]
    },
    {
      "cell_type": "code",
      "execution_count": null,
      "id": "fbca82f7",
      "metadata": {
        "id": "fbca82f7",
        "tags": [
          "py",
          "draft",
          "learner_chopped"
        ]
      },
      "outputs": [],
      "source": [
        "#>>>PROBLEM: I3S2.4.6\n",
        "# Use this cell for drafting your solution (if desired),\n",
        "# then enter your solution in the interactive problem online to be graded.\n",
        "\n",
        "pass"
      ]
    },
    {
      "cell_type": "markdown",
      "id": "fd66c716",
      "metadata": {
        "id": "fd66c716",
        "tags": [
          "learner",
          "md",
          "learner_chopped"
        ]
      },
      "source": [
        "### <span style=\"border:3px; border-style:solid; padding: 0.15em; border-color: #90409C; color: #90409C;\">I3S2.4.7 Indexing and Slicing 7</span>\n",
        "\n",
        "\n",
        "Try to determine the answer without entering the expression in python.\n",
        "\n",
        "For <tt>A = np.array([[5,7,10,14],[2,4,8,9]])</tt>,\n",
        "\n",
        "<tt>A[:,1:2] = </tt>"
      ]
    },
    {
      "cell_type": "code",
      "execution_count": null,
      "id": "2d14c292",
      "metadata": {
        "id": "2d14c292",
        "tags": [
          "py",
          "draft",
          "learner_chopped"
        ]
      },
      "outputs": [],
      "source": [
        "#>>>PROBLEM: I3S2.4.7\n",
        "# Use this cell for drafting your solution (if desired),\n",
        "# then enter your solution in the interactive problem online to be graded.\n",
        "\n",
        "pass"
      ]
    },
    {
      "cell_type": "markdown",
      "id": "467e91ca",
      "metadata": {
        "id": "467e91ca",
        "tags": [
          "learner",
          "md",
          "learner_chopped"
        ]
      },
      "source": [
        "### <span style=\"border:3px; border-style:solid; padding: 0.15em; border-color: #90409C; color: #90409C;\">I3S2.4.8 Indexing and Slicing 8</span>\n",
        "\n",
        "\n",
        "Try to determine the answer without entering the expression in python.\n",
        "\n",
        "For <tt>A = np.array([[5,7,10,14],[2,4,8,9]])</tt>,\n",
        "\n",
        "<tt>A[:,1] = </tt>"
      ]
    },
    {
      "cell_type": "code",
      "execution_count": null,
      "id": "6a1dcec3",
      "metadata": {
        "id": "6a1dcec3",
        "tags": [
          "py",
          "draft",
          "learner_chopped"
        ]
      },
      "outputs": [],
      "source": [
        "#>>>PROBLEM: I3S2.4.8\n",
        "# Use this cell for drafting your solution (if desired),\n",
        "# then enter your solution in the interactive problem online to be graded.\n",
        "\n",
        "pass"
      ]
    },
    {
      "cell_type": "markdown",
      "id": "d7af8363",
      "metadata": {
        "id": "d7af8363",
        "tags": [
          "learner",
          "md",
          "learner_chopped"
        ]
      },
      "source": [
        "### <span style=\"border:3px; border-style:solid; padding: 0.15em; border-color: #90409C; color: #90409C;\">I3S2.4.9 Indexing and Slicing 9</span>\n",
        "\n",
        "\n",
        "The difference between slicing and indexing is:\n",
        "\n",
        "1. Slicing preserves dimensionality while indexing does not.\n",
        "2. Indexing preserves dimensionality while slicing does not.\n",
        "3. Indexing is a dangerous sport for librarians.\n",
        "4. French chefs prefer slicing.\n",
        "\n"
      ]
    },
    {
      "cell_type": "markdown",
      "id": "4f2d93f1",
      "metadata": {
        "id": "4f2d93f1",
        "tags": [
          "learner",
          "md",
          "learner_chopped"
        ]
      },
      "source": [
        "<a name='section_2_5'></a>\n",
        "<hr style=\"height: 1px;\">\n",
        "\n",
        "## <h2 style=\"border:1px; border-style:solid; padding: 0.25em; color: #FFFFFF; background-color: #90409C\">I3S2.5 Practice with Functions</h2>   \n",
        "\n",
        "| [Top](#section_2_0) | [Previous Section](#section_2_4) | [Practice](#practice_2_5) | [Next Section](#section_2_6) |"
      ]
    },
    {
      "cell_type": "markdown",
      "id": "788b52c1",
      "metadata": {
        "id": "788b52c1",
        "tags": [
          "learner",
          "md",
          "catsoop_05"
        ]
      },
      "source": [
        "<h3>Overview</h3>\n",
        "\n",
        "Now that we're familiar with numpy arrays, let's practice actually using numpy in our code! In particular, we will write some functions to perform operations on lists and arrays.\n",
        "\n",
        "**In the following questions, you must get the shapes of the output correct for your answer to be accepted.** If your answer contains the correct numbers but the grader is still saying your answer is incorrect, check the shapes of your output. The number and placement of square brackets need to match the right answer!\n"
      ]
    },
    {
      "cell_type": "markdown",
      "id": "423722de",
      "metadata": {
        "id": "423722de",
        "tags": [
          "learner",
          "md",
          "learner_chopped"
        ]
      },
      "source": [
        "<a name='practice_2_5'></a>  \n",
        "\n",
        "### <span style=\"border:3px; border-style:solid; padding: 0.15em; border-color: #90409C; color: #90409C;\">I3S2.5.1 Practice with Functions 1</span>\n",
        "\n",
        "Write a function that takes a list of numbers `value_list` and returns a 2D numpy array representing a **row** vector containing those numbers. Recall that a row vector in our usage will have shape $(1, d)$ where $d$ is the number of elements in the row."
      ]
    },
    {
      "cell_type": "code",
      "execution_count": 6,
      "id": "ec394815",
      "metadata": {
        "id": "ec394815",
        "tags": [
          "py",
          "draft",
          "learner_chopped"
        ],
        "outputId": "488e73a1-a790-43ef-fbe6-c064fe07f5fc",
        "colab": {
          "base_uri": "https://localhost:8080/"
        }
      },
      "outputs": [
        {
          "output_type": "stream",
          "name": "stdout",
          "text": [
            "<class 'numpy.ndarray'>\n"
          ]
        }
      ],
      "source": [
        "#>>>PROBLEM: I3S2.5.1\n",
        "# Use this cell for drafting your solution (if desired),\n",
        "# then enter your solution in the interactive problem online to be graded.\n",
        "A=[1,2]\n",
        "def rv(value_list):\n",
        "    return np.array(value_list) #YOUR CODE HERE\n",
        "print(type(rv(A)))"
      ]
    },
    {
      "cell_type": "markdown",
      "id": "e057ba0d",
      "metadata": {
        "id": "e057ba0d",
        "tags": [
          "learner",
          "md",
          "learner_chopped"
        ]
      },
      "source": [
        "### <span style=\"border:3px; border-style:solid; padding: 0.15em; border-color: #90409C; color: #90409C;\">I3S2.5.2 Practice with Functions 2</span>\n",
        "\n",
        "Write a function that takes a list of numbers `value_list` and returns a 2D numpy array representing a **column** vector containing those numbers.  You can use the `rv` function that you just defined. Hint: use `np.transpose`."
      ]
    },
    {
      "cell_type": "code",
      "execution_count": null,
      "id": "883bbda4",
      "metadata": {
        "id": "883bbda4",
        "tags": [
          "py",
          "draft",
          "learner_chopped"
        ]
      },
      "outputs": [],
      "source": [
        "#>>>PROBLEM: I3S2.5.2\n",
        "# Use this cell for drafting your solution (if desired),\n",
        "# then enter your solution in the interactive problem online to be graded.\n",
        "\n",
        "def cv(value_list):\n",
        "    return 0 #YOUR CODE HERE"
      ]
    },
    {
      "cell_type": "markdown",
      "id": "ed10c930",
      "metadata": {
        "id": "ed10c930",
        "tags": [
          "learner",
          "md",
          "learner_chopped"
        ]
      },
      "source": [
        "### <span style=\"border:3px; border-style:solid; padding: 0.15em; border-color: #90409C; color: #90409C;\">I3S2.5.3 Practice with Functions 3</span>\n",
        "\n",
        "Write a function that takes a column vector and returns the vector's Euclidean length (or equivalently, its magnitude) as a scalar.  You may not use `np.linalg.norm`, and you may not use loops.\n",
        "\n",
        "Remember that the formula for the Euclidean length for a vector $\\mathbf{x}$ is:\n",
        "\n",
        "$$\n",
        "{\\rm length}(\\mathbf{x}) = \\sqrt{x_1^2 + x_2^2 + ... + x_n^2} \\\\\n",
        " = \\sqrt{\\sum_{i=1}^n{x^2_i}}\n",
        "$$"
      ]
    },
    {
      "cell_type": "code",
      "execution_count": 13,
      "id": "5ba2923c",
      "metadata": {
        "id": "5ba2923c",
        "tags": [
          "py",
          "draft",
          "learner_chopped"
        ],
        "outputId": "646b7d60-d735-400d-d8b5-151a4e4862c3",
        "colab": {
          "base_uri": "https://localhost:8080/"
        }
      },
      "outputs": [
        {
          "output_type": "stream",
          "name": "stdout",
          "text": [
            "4.242640687119285\n"
          ]
        }
      ],
      "source": [
        "#>>>PROBLEM: I3S2.5.3\n",
        "# Use this cell for drafting your solution (if desired),\n",
        "# then enter your solution in the interactive problem online to be graded.\n",
        "A=[3,3,3]\n",
        "def length(col_v):\n",
        "    npa=np.array(col_v)\n",
        "    s=0\n",
        "    for i in range(0,len(col_v)-1):\n",
        "      s=s+npa[i]**2\n",
        "    return np.sqrt(s) #YOUR CODE HERE\n",
        "print(length(A))"
      ]
    },
    {
      "cell_type": "markdown",
      "id": "c8235922",
      "metadata": {
        "id": "c8235922",
        "tags": [
          "learner",
          "md",
          "learner_chopped"
        ]
      },
      "source": [
        "### <span style=\"border:3px; border-style:solid; padding: 0.15em; border-color: #90409C; color: #90409C;\">I3S2.5.4 Practice with Functions 4</span>\n",
        "\n",
        "Write a function that takes a column vector and returns a unit vector (a vector of length $1$) in the same direction. You may not use loops.  Use your `length` function defined above (you do not need to define it again)."
      ]
    },
    {
      "cell_type": "code",
      "execution_count": null,
      "id": "e0e9e670",
      "metadata": {
        "id": "e0e9e670",
        "tags": [
          "py",
          "draft",
          "learner_chopped"
        ]
      },
      "outputs": [],
      "source": [
        "#>>>PROBLEM: I3S2.5.4\n",
        "# Use this cell for drafting your solution (if desired),\n",
        "# then enter your solution in the interactive problem online to be graded.\n",
        "\n",
        "def normalize(col_v):\n",
        "    return 0 #YOUR CODE HERE"
      ]
    },
    {
      "cell_type": "markdown",
      "id": "7794ac79",
      "metadata": {
        "id": "7794ac79",
        "tags": [
          "learner",
          "md",
          "learner_chopped"
        ]
      },
      "source": [
        "### <span style=\"border:3px; border-style:solid; padding: 0.15em; border-color: #90409C; color: #90409C;\">I3S2.5.5 Practice with Functions 5</span>\n",
        "\n",
        "Write a function that takes a 2D array `A` and returns the final column as a two dimensional array. You may not use loops. Reminder: negative indices are interpreted as counting from the end of the array."
      ]
    },
    {
      "cell_type": "code",
      "execution_count": null,
      "id": "8dde7b53",
      "metadata": {
        "id": "8dde7b53",
        "tags": [
          "py",
          "draft",
          "learner_chopped"
        ]
      },
      "outputs": [],
      "source": [
        "#>>>PROBLEM: I3S2.5.5\n",
        "# Use this cell for drafting your solution (if desired),\n",
        "# then enter your solution in the interactive problem online to be graded.\n",
        "\n",
        "def index_final_col(A):\n",
        "    return 0 #YOUR CODE HERE"
      ]
    },
    {
      "cell_type": "markdown",
      "id": "83326e30",
      "metadata": {
        "id": "83326e30",
        "tags": [
          "learner",
          "md",
          "learner_chopped"
        ]
      },
      "source": [
        "<a name='section_2_6'></a>\n",
        "<hr style=\"height: 1px;\">\n",
        "\n",
        "## <h2 style=\"border:1px; border-style:solid; padding: 0.25em; color: #FFFFFF; background-color: #90409C\">I3S2.6 Working Through Unknowns</h2>    \n",
        "\n",
        "| [Top](#section_2_0) | [Previous Section](#section_2_5) | [Practice](#practice_2_6)| [Next Section](#section_2_7)|\n"
      ]
    },
    {
      "cell_type": "markdown",
      "id": "0a1d9f56",
      "metadata": {
        "id": "0a1d9f56",
        "tags": [
          "learner",
          "md",
          "catsoop_06"
        ]
      },
      "source": [
        "<h3>Troubleshooting Problematic Code</h3>\n",
        "\n",
        "Now let's think about troubleshooting (or \"debugging\") code. What should you do when you are getting stuck while trying to code a new problem or when you discover that your current code is not working as expected?\n",
        "\n",
        "Answer below, and read the solution for added insight."
      ]
    },
    {
      "cell_type": "markdown",
      "id": "1b873c08",
      "metadata": {
        "id": "1b873c08",
        "tags": [
          "learner",
          "md",
          "learner_chopped"
        ]
      },
      "source": [
        "<a name='practice_2_6'></a>\n",
        "\n",
        "### <span style=\"border:3px; border-style:solid; padding: 0.15em; border-color: #90409C; color: #90409C;\">I3S2.6.1 Trouble-Shooting</span>\n",
        "\n",
        "Check all of the following that are helpful when debugging code:\n",
        "\n",
        "\n",
        "1. Read the problem carefully, and write down any relevant equations or pseudocode.\n",
        "\n",
        "2. Google the error and/or check StackOverflow.\n",
        "\n",
        "3. Stare at the screen and hope that the solution dawns on me.\n",
        "\n",
        "4. Identify which line of code is causing errors -- <tt>print()</tt> statements are helpful for this.\n",
        "\n",
        "5. Check that I'm using the right type of matrix multiplication (* vs @ vs <tt>np.dot()</tt>).\n",
        "\n",
        "6. Check that I'm performing an operation over the correct axis (row or column).\n",
        "\n",
        "7. Read documentation to ensure I am using the function correctly.\n",
        "\n",
        "8. Cry and/or scream into the void.\n",
        "\n",
        "9. Work out a small example by hand and ensure my code is giving the correct results at each intermediate step.\n",
        "\n",
        "10. Add a `.T` at the end of a few random variables.\n",
        "\n",
        "11. Explain my code to a friend using common language.\n",
        "\n",
        "12. Check dimensions of my variables by printing their shapes.\n",
        "\n",
        "13. Print out intermediate results in the code, and if using the online code-boxes, find the printed results by clicking the \\'Show/Hide Detailed Results\\'\n",
        "\n"
      ]
    },
    {
      "cell_type": "markdown",
      "id": "ff2b33e8",
      "metadata": {
        "id": "ff2b33e8",
        "tags": [
          "learner",
          "md",
          "learner_chopped"
        ]
      },
      "source": [
        "<a name='section_2_7'></a>\n",
        "<hr style=\"height: 1px;\">\n",
        "\n",
        "## <h2 style=\"border:1px; border-style:solid; padding: 0.25em; color: #FFFFFF; background-color: #90409C\">I3S2.7 How to Find Functions in Libraries</h2>    \n",
        "\n",
        "| [Top](#section_2_0) | [Previous Section](#section_2_6) | [Practice](#practice_2_7) |"
      ]
    },
    {
      "cell_type": "markdown",
      "id": "852ff6e7",
      "metadata": {
        "id": "852ff6e7",
        "tags": [
          "learner",
          "md",
          "catsoop_07"
        ]
      },
      "source": [
        "<h3>Overview</h3>\n",
        "\n",
        "Let's focus on this item from the list in the previous section: `Read documentation to ensure I am using the function correctly`\n",
        "\n",
        "This is useful if you want to learn more about the function you are using, and we've already introduced the general documentation for <a href=\"https://docs.scipy.org/doc/numpy/user/quickstart.html\" target=\"_blank\"> NumPy</a>, for example.\n",
        "\n",
        "**But what if you are working through a problem and you would like use a library function, but you don't know what it's called or even if it exists?? Should you read all of the documentation??**\n",
        "\n",
        "To give you an idea of how to proceed, we give some examples using the <a href=\"https://scipy.org\" target=\"_blank\">SciPy</a> package. It's not critical now to understand the details of the specific functions and code used in these examples, as those will be reintroduced later in the course, when needed."
      ]
    },
    {
      "cell_type": "markdown",
      "id": "3c107740",
      "metadata": {
        "id": "3c107740",
        "tags": [
          "learner",
          "md",
          "catsoop_07"
        ]
      },
      "source": [
        "<h3>Example with SciPy</h3>\n",
        "\n",
        "Let's say we want to take some data and find the linear relationship which best describes the dependence seen in that data. One procedure to do this is called a **least-squares regression fit** of a line to the data points. Consider the data below, for example."
      ]
    },
    {
      "cell_type": "code",
      "execution_count": 14,
      "id": "634dc96d",
      "metadata": {
        "id": "634dc96d",
        "tags": [
          "learner",
          "py",
          "catsoop_07",
          "learner_chopped"
        ],
        "outputId": "450b6b60-3fab-4127-b074-9beb8d49e8e1",
        "colab": {
          "base_uri": "https://localhost:8080/",
          "height": 522
        }
      },
      "outputs": [
        {
          "output_type": "display_data",
          "data": {
            "text/plain": [
              "<Figure size 900x600 with 1 Axes>"
            ],
            "image/png": "[encoded data removed]"
          },
          "metadata": {
            "image/png": {
              "width": 744,
              "height": 505
            }
          }
        }
      ],
      "source": [
        "#>>>RUN: I3S2.7-runcell01\n",
        "\n",
        "# Some data points we want to fit a line to\n",
        "import matplotlib.pyplot as plt\n",
        "\n",
        "x = [1,2,3,4,5,6,7,8,9,10]\n",
        "y = [1.2, 1.8, 2.2, 4.3, 5.6, 6.5, 7.2, 8.2, 8.8, 11.4]\n",
        "\n",
        "plt.scatter(x, y) # show a scatter plot\n",
        "plt.show()"
      ]
    },
    {
      "cell_type": "markdown",
      "id": "ea9abd6f",
      "metadata": {
        "id": "ea9abd6f",
        "tags": [
          "learner",
          "md",
          "catsoop_07"
        ]
      },
      "source": [
        "You might search for \"python linear regression\", which will bring up references to packages like SciPy. Of course, if you don't know what to search for, your best bet is to describe as much as you can about what you're trying to do. We can search for \"scipy regression\" in our browser. When this course was written, we found <a href=\"https://docs.scipy.org/doc/scipy/reference/generated/scipy.stats.linregress.html\" target=\"_blank\">this page</a>:\n",
        "\n",
        "<p align=\"center\">\n",
        "<img alt=\"search for scipy regression\" src=\"https://raw.githubusercontent.com/mitx-8s50/images/main/I01/image1.png\" width=\"800\" border=\"1\"/>\n",
        "</p>"
      ]
    },
    {
      "cell_type": "markdown",
      "id": "57d05a4c",
      "metadata": {
        "id": "57d05a4c",
        "tags": [
          "learner",
          "md",
          "catsoop_07"
        ]
      },
      "source": [
        "This is what's called an API reference, which enumerates all available functions and classes. Almost any package you use will have this type of page.\n",
        "\n",
        "\n",
        "**Version**\n",
        "\n",
        "On the top left under the logo, the page specifies the SciPy version it applies to, in this case `release-1.8.1`. It's good to check that the version matches what you're using, as features can change. You can search \"scipy X.X.X documentation\" to find the one relevant to your version. To see your version of a package, after importing, use `print([your package name here].__version__)` (with `version` both preceeded and followed by two underscores `__`).\n",
        "\n",
        "When running notebooks in Colab, you will generally get the most recent official versions of any libraries you import.\n",
        "\n",
        "Alternatively, if you are running Juypter locally, you can also refer to your package manager, e.g. pip or conda. The number may be an issue in this case if you are using an older version of a library that you installed for some previous coding work.\n"
      ]
    },
    {
      "cell_type": "code",
      "execution_count": 15,
      "id": "x6LM3yb_D_AC",
      "metadata": {
        "id": "x6LM3yb_D_AC",
        "tags": [
          "py",
          "castoop_07",
          "learner",
          "learner_chopped"
        ],
        "outputId": "55a91525-70ed-4d19-b323-e526d2a3920a",
        "colab": {
          "base_uri": "https://localhost:8080/"
        }
      },
      "outputs": [
        {
          "output_type": "stream",
          "name": "stdout",
          "text": [
            "1.13.1\n"
          ]
        }
      ],
      "source": [
        "#>>>RUN: I3S2.7-runcell02\n",
        "\n",
        "import scipy as sp\n",
        "\n",
        "print(sp.__version__)"
      ]
    },
    {
      "cell_type": "markdown",
      "id": "myDYEr2wGBHR",
      "metadata": {
        "id": "myDYEr2wGBHR",
        "tags": [
          "md",
          "learner",
          "catsoop_07"
        ]
      },
      "source": [
        "Note that you can use aliases with `.__version__`, as shown in the code cell above, but you must use the original library name even if you only imported specific functions, as shown in the code cell below:"
      ]
    },
    {
      "cell_type": "code",
      "execution_count": 17,
      "id": "AXFf4ww5GdJk",
      "metadata": {
        "id": "AXFf4ww5GdJk",
        "tags": [
          "py",
          "castoop_07",
          "learner_chopped",
          "learner"
        ],
        "outputId": "ef02dc1d-40b3-4b16-9489-32726758a080",
        "colab": {
          "base_uri": "https://localhost:8080/",
          "height": 233
        }
      },
      "outputs": [
        {
          "output_type": "stream",
          "name": "stdout",
          "text": [
            "scipy.__version__ works:\n",
            "1.13.1\n",
            "stats.__version__ doesn't:\n"
          ]
        },
        {
          "output_type": "error",
          "ename": "AttributeError",
          "evalue": "module 'scipy.stats' has no attribute '__version__'",
          "traceback": [
            "\u001b[0;31m---------------------------------------------------------------------------\u001b[0m",
            "\u001b[0;31mAttributeError\u001b[0m                            Traceback (most recent call last)",
            "\u001b[0;32m<ipython-input-17-f7a895aea3a2>\u001b[0m in \u001b[0;36m<cell line: 11>\u001b[0;34m()\u001b[0m\n\u001b[1;32m      9\u001b[0m \u001b[0mprint\u001b[0m\u001b[0;34m(\u001b[0m\u001b[0;34m\"stats.__version__ doesn't:\"\u001b[0m\u001b[0;34m)\u001b[0m\u001b[0;34m\u001b[0m\u001b[0;34m\u001b[0m\u001b[0m\n\u001b[1;32m     10\u001b[0m \u001b[0;34m\u001b[0m\u001b[0m\n\u001b[0;32m---> 11\u001b[0;31m \u001b[0mprint\u001b[0m\u001b[0;34m(\u001b[0m\u001b[0mstats\u001b[0m\u001b[0;34m.\u001b[0m\u001b[0m__version__\u001b[0m\u001b[0;34m)\u001b[0m\u001b[0;34m\u001b[0m\u001b[0;34m\u001b[0m\u001b[0m\n\u001b[0m",
            "\u001b[0;31mAttributeError\u001b[0m: module 'scipy.stats' has no attribute '__version__'"
          ]
        }
      ],
      "source": [
        "#>>>RUN: I3S2.7-runcell03\n",
        "\n",
        "import scipy\n",
        "\n",
        "print(\"scipy.__version__ works:\")\n",
        "\n",
        "print(scipy.__version__)\n",
        "\n",
        "print(\"stats.__version__ doesn't:\")\n",
        "\n",
        "print(stats.__version__)"
      ]
    },
    {
      "cell_type": "markdown",
      "id": "8TNwWoFHE-JG",
      "metadata": {
        "id": "8TNwWoFHE-JG",
        "tags": [
          "md",
          "learner",
          "catsoop_07"
        ]
      },
      "source": [
        "**Description of Module**\n",
        "\n",
        "On the right panel, there's everything we need to know to use `scipy.stats.linregress` to \"calculate a linear least-squares regression\" as we desire.\n",
        "\n",
        "We see: `scipy.stats.linregress(x, y=None, alternative='two-sided')`. This means we call the function with inputs `x`, `y`, and `alternative`. In Python, when we see something like `y=...` in this setting, it means there's a default, in this case `None`, which `y` will take if we don't give the function a `y` value of our own. Note that you can omit earlier inputs in a list while passing later ones using commas, for example `scipy.stats.linregress(xarray,, alternative='less')`.\n",
        "\n",
        "**Parameters**\n",
        "\n",
        "Below the function name, we get details about what the inputs are and their types (e.g. floating point number, integer, array_like).\n",
        "\n",
        "**Returns**\n",
        "\n",
        "This section gives information about the output of the function, as described in more detail below.\n",
        "\n",
        "**Source**\n",
        "\n",
        "On the far right there's a **[source]** link , which points to the source code if you'd like to dig into how the function actually works."
      ]
    },
    {
      "cell_type": "markdown",
      "id": "87b57181",
      "metadata": {
        "id": "87b57181",
        "tags": [
          "learner",
          "md",
          "catsoop_07"
        ]
      },
      "source": [
        "**Returns:**\n",
        "\n",
        "Importantly, we should understand what the output (or \"return\") of the function is. We see that the output is an *object* of type `LinregressResult`. That is, the function returns a thing that has \"attributes\" we can access. Instead of returning a ton of numbers we'd need to keep track of, we get our result neatly packaged into one thing.\n",
        "\n",
        "<p align=\"center\">\n",
        "<img alt=\"information about function returns\" src=\"https://raw.githubusercontent.com/mitx-8s50/images/main/I01/image2.png\" width=\"500\" border=\"1\"/>\n",
        "</p>"
      ]
    },
    {
      "cell_type": "markdown",
      "id": "5afe44e9",
      "metadata": {
        "id": "5afe44e9",
        "tags": [
          "learner",
          "md",
          "catsoop_07"
        ]
      },
      "source": [
        "**Examples**\n",
        "\n",
        "Examples are often, but not always, included. Scroll further down the page to view them.\n",
        "\n",
        "<p align=\"center\">\n",
        "<img alt=\"examples of how a function is used\" src=\"https://raw.githubusercontent.com/mitx-8s50/images/main/I01/image3.png\" width=\"350\" border=\"1\"/>\n",
        "</p>"
      ]
    },
    {
      "cell_type": "markdown",
      "id": "16439f83",
      "metadata": {
        "id": "16439f83",
        "tags": [
          "learner",
          "md",
          "catsoop_07"
        ]
      },
      "source": [
        "<h3>Implementing the Function</h3>\n",
        "\n",
        "Now we are equipped to try using this function. Let's include all import commands and redefine the data."
      ]
    },
    {
      "cell_type": "code",
      "execution_count": 18,
      "id": "c0f97244",
      "metadata": {
        "id": "c0f97244",
        "tags": [
          "learner",
          "py",
          "catsoop_07",
          "learner_chopped"
        ],
        "outputId": "a7eaae9d-94f2-4cdf-ce82-21235191577e",
        "colab": {
          "base_uri": "https://localhost:8080/",
          "height": 522
        }
      },
      "outputs": [
        {
          "output_type": "display_data",
          "data": {
            "text/plain": [
              "<Figure size 900x600 with 1 Axes>"
            ],
            "image/png": "[encoded data removed]"
          },
          "metadata": {
            "image/png": {
              "width": 744,
              "height": 505
            }
          }
        }
      ],
      "source": [
        "#>>>RUN: I3S2.7-runcell04\n",
        "\n",
        "import scipy.stats # our function was under scipy.stats\n",
        "import numpy as np\n",
        "\n",
        "x = [1,2,3,4,5,6,7,8,9,10]\n",
        "y = [1.2, 1.8, 2.2, 4.3, 5.6, 6.5, 7.2, 8.2, 8.8, 11.4]\n",
        "\n",
        "# here our data is two lists, so we use both the x and y inputs.\n",
        "#we leave 'alternative' as its default\n",
        "result = scipy.stats.linregress(x, y)\n",
        "\n",
        "# we want to see the slope and intercept of the line\n",
        "# these were in the 'slope' and 'intercept' attributes of a Linregressresult\n",
        "m = result.slope\n",
        "b = result.intercept\n",
        "\n",
        "# create a function for a straight line fit\n",
        "#this multiplies elements of x by m, and adds b to each\n",
        "y_predicted = m * np.array(x) + b\n",
        "\n",
        "# now let's plot it together\n",
        "plt.scatter(x,y)\n",
        "plt.plot(x, y_predicted)\n",
        "plt.show()"
      ]
    },
    {
      "cell_type": "markdown",
      "id": "424f5bba",
      "metadata": {
        "id": "424f5bba",
        "tags": [
          "learner",
          "md",
          "catsoop_07"
        ]
      },
      "source": [
        "**And there you have it!** We've read a documentation page, found a simple example, and used it."
      ]
    },
    {
      "cell_type": "markdown",
      "id": "9e25d39b",
      "metadata": {
        "id": "9e25d39b",
        "tags": [
          "learner",
          "md",
          "learner_chopped"
        ]
      },
      "source": [
        "<a name='practice_2_7'></a>\n",
        "\n",
        "### <span style=\"border:3px; border-style:solid; padding: 0.15em; border-color: #90409C; color: #90409C;\">I3S2.7.1 SciPy Example</span>\n",
        "\n",
        "Navigate the SciPy documentation to figure out how to use SciPy to compute the geometric mean of the list of numbers below. Alternatively (and in this case more easily), search from your browser. Do not use any `numpy` functions.\n",
        "\n",
        "Complete the code below. We've included a line that prints the output of the function but, as mentioned previously, such a line will typically **not** be included in the starting version of the code you are given.\n",
        "\n",
        "*Hint 1: The relevant function is contained in scipy.stats. Try to find the documentation page yourself.*\n",
        "\n",
        "*Hint 2: If you're having trouble finding it, the relevant documentation page is <a href=\"https://docs.scipy.org/doc/scipy/reference/generated/scipy.stats.gmean.html#scipy.stats.gmean\" target=\"_blank\">here.</a>*\n",
        "\n",
        "\n"
      ]
    },
    {
      "cell_type": "code",
      "execution_count": 19,
      "id": "868aa16e",
      "metadata": {
        "id": "868aa16e",
        "tags": [
          "draft",
          "py",
          "learner_chopped"
        ],
        "outputId": "f1b82704-b027-414a-be3f-c30d34501329",
        "colab": {
          "base_uri": "https://localhost:8080/"
        }
      },
      "outputs": [
        {
          "output_type": "stream",
          "name": "stdout",
          "text": [
            "weighted geometric mean: 2.6051710846973517\n"
          ]
        }
      ],
      "source": [
        "#>>>PRACTICE: I3S2.7.1\n",
        "\n",
        "# Use this cell for drafting your solution (if desired),\n",
        "# then enter your solution in the interactive problem online to be graded.\n",
        "import scipy.stats\n",
        "\n",
        "numbers = [1,2,3,4,5]\n",
        "\n",
        "def calc_weighted_geometric_mean(x_vals):\n",
        "    return scipy.stats.gmean(x_vals)\n",
        "\n",
        "#OUTPUT\n",
        "wgmean = calc_weighted_geometric_mean(numbers)\n",
        "print('weighted geometric mean:',wgmean)"
      ]
    }
  ],
  "metadata": {
    "celltoolbar": "Tags",
    "kernelspec": {
      "display_name": "Python 3 (ipykernel)",
      "language": "python",
      "name": "python3"
    },
    "language_info": {
      "codemirror_mode": {
        "name": "ipython",
        "version": 3
      },
      "file_extension": ".py",
      "mimetype": "text/x-python",
      "name": "python",
      "nbconvert_exporter": "python",
      "pygments_lexer": "ipython3",
      "version": "3.9.9"
    },
    "colab": {
      "provenance": [],
      "include_colab_link": true
    }
  },
  "nbformat": 4,
  "nbformat_minor": 5
}